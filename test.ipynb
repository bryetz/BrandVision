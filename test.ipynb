{
 "cells": [
  {
   "cell_type": "code",
   "execution_count": 1,
   "id": "de8fd156-dbeb-4fe2-a23d-65474b27d749",
   "metadata": {},
   "outputs": [],
   "source": [
    "import numpy as np\n",
    "import os\n",
    "import tensorflow as tf\n",
    "import matplotlib.pyplot as plt\n",
    "from tensorflow import keras\n",
    "from sklearn.model_selection import train_test_split\n",
    "from keras import layers\n",
    "from keras.models import load_model\n",
    "from sklearn.metrics import classification_report, confusion_matrix, ConfusionMatrixDisplay"
   ]
  },
  {
   "cell_type": "code",
   "execution_count": 2,
   "id": "719ffe49-f6b8-4f7c-a080-f2b0eaa62a17",
   "metadata": {},
   "outputs": [],
   "source": [
    "# Step 1: Load the test data (features) from the file 'x_test.npy'\n",
    "data = np.load('x_test.npy')\n",
    "\n",
    "# Step 2: Load the test labels from the file 't_test.npy'\n",
    "labels = np.load('t_test.npy')\n",
    "\n",
    "# Reshaping the data to match the expected input shape for the model (300x300 RGB image)\n",
    "data = data[:,:].reshape(data.shape[0],300,300,3)\n",
    "\n",
    "# Normalizing the data by dividing by 255, converting to float16 to save memory\n",
    "data = data.astype('float16') / 255\n",
    "\n",
    "# Converting the labels to one-hot encoded format with 10 classes\n",
    "labels = tf.keras.utils.to_categorical(labels, num_classes=10)"
   ]
  },
  {
   "cell_type": "code",
   "execution_count": 3,
   "id": "2f3fbe15-caff-4230-8dc8-31196cace9ae",
   "metadata": {
    "tags": []
   },
   "outputs": [
    {
     "name": "stderr",
     "output_type": "stream",
     "text": [
      "2023-08-07 21:45:38.202894: I tensorflow/core/platform/cpu_feature_guard.cc:151] This TensorFlow binary is optimized with oneAPI Deep Neural Network Library (oneDNN) to use the following CPU instructions in performance-critical operations:  SSE4.1 SSE4.2 AVX AVX2 FMA\n",
      "To enable them in other operations, rebuild TensorFlow with the appropriate compiler flags.\n",
      "2023-08-07 21:45:38.759113: I tensorflow/core/common_runtime/gpu/gpu_device.cc:1525] Created device /job:localhost/replica:0/task:0/device:GPU:0 with 79111 MB memory:  -> device: 0, name: NVIDIA A100-SXM4-80GB, pci bus id: 0000:bd:00.0, compute capability: 8.0\n"
     ]
    }
   ],
   "source": [
    "# Step 3: Define the path to the saved model checkpoint (best_model.h5)\n",
    "checkpoint_path = 'best_model.h5'\n",
    "\n",
    "# Getting the directory path of the checkpoint\n",
    "checkpoint_dir = os.path.dirname(checkpoint_path)\n",
    "\n",
    "# Note: Make sure to have the weights downloaded on your path with the name best_model.h5\n",
    "# Loading the model from the specified checkpoint path\n",
    "model = load_model(checkpoint_path)"
   ]
  },
  {
   "cell_type": "code",
   "execution_count": 4,
   "id": "849840c4-cb2e-4dd1-96c2-0f8f0b73a848",
   "metadata": {},
   "outputs": [
    {
     "name": "stderr",
     "output_type": "stream",
     "text": [
      "2023-08-07 21:45:45.057075: I tensorflow/stream_executor/cuda/cuda_dnn.cc:366] Loaded cuDNN version 8201\n",
      "2023-08-07 21:45:47.343961: I tensorflow/stream_executor/cuda/cuda_blas.cc:1774] TensorFloat-32 will be used for the matrix multiplication. This will only be logged once.\n"
     ]
    }
   ],
   "source": [
    "# Using the loaded model to predict the class labels for the test data\n",
    "# The argmax function is used to get the index of the maximum value along axis 1, representing the predicted class\n",
    "y = np.argmax(model.predict(data),axis=1)"
   ]
  },
  {
   "cell_type": "code",
   "execution_count": 5,
   "id": "90e3dd9e-bfb6-4aeb-ab19-da24be72e00f",
   "metadata": {},
   "outputs": [
    {
     "data": {
      "text/plain": [
       "array([9, 1, 2, ..., 6, 9, 4])"
      ]
     },
     "execution_count": 5,
     "metadata": {},
     "output_type": "execute_result"
    }
   ],
   "source": [
    "# Displaying the predicted labels (y)\n",
    "y"
   ]
  },
  {
   "cell_type": "code",
   "execution_count": 6,
   "id": "28981981-53f0-4736-a8ca-3c5b70703eee",
   "metadata": {
    "tags": []
   },
   "outputs": [
    {
     "name": "stdout",
     "output_type": "stream",
     "text": [
      "\n",
      "\n",
      "TEST\n",
      "              precision    recall  f1-score   support\n",
      "\n",
      "           0       0.87      0.94      0.91       175\n",
      "           1       0.94      0.87      0.90       182\n",
      "           2       0.98      0.95      0.97       175\n",
      "           3       0.94      0.95      0.94       189\n",
      "           4       0.98      0.98      0.98       195\n",
      "           5       0.94      0.97      0.95       161\n",
      "           6       0.95      0.95      0.95       175\n",
      "           7       0.97      0.98      0.97       175\n",
      "           8       0.95      0.96      0.96       173\n",
      "           9       0.94      0.92      0.93       180\n",
      "\n",
      "    accuracy                           0.95      1780\n",
      "   macro avg       0.95      0.95      0.95      1780\n",
      "weighted avg       0.95      0.95      0.95      1780\n",
      "\n"
     ]
    },
    {
     "data": {
      "text/plain": [
       "<sklearn.metrics._plot.confusion_matrix.ConfusionMatrixDisplay at 0x2b825dd82190>"
      ]
     },
     "execution_count": 6,
     "metadata": {},
     "output_type": "execute_result"
    },
    {
     "data": {
      "image/png": "[encoded data removed]",
      "text/plain": [
       "<Figure size 432x288 with 2 Axes>"
      ]
     },
     "metadata": {
      "needs_background": "light"
     },
     "output_type": "display_data"
    }
   ],
   "source": [
    "# Printing a header for the test results\n",
    "print('\\n\\nTEST') # Note 1\n",
    "\n",
    "# Printing the classification report, including metrics like precision, recall, f1-score, support, and accuracy\n",
    "print(classification_report(np.argmax(labels,axis=1), y))\n",
    "\n",
    "# Creating and plotting the confusion matrix to visualize the correctly and incorrectly classified samples\n",
    "disp_test=ConfusionMatrixDisplay(confusion_matrix=confusion_matrix(np.argmax(labels,axis=1), y))\n",
    "disp_test.plot()"
   ]
  }
 ],
 "metadata": {
  "kernelspec": {
   "display_name": "Tensorflow-2.7.0",
   "language": "python",
   "name": "tensorflow-2.7.0"
  },
  "language_info": {
   "codemirror_mode": {
    "name": "ipython",
    "version": 3
   },
   "file_extension": ".py",
   "mimetype": "text/x-python",
   "name": "python",
   "nbconvert_exporter": "python",
   "pygments_lexer": "ipython3",
   "version": "3.9.12"
  }
 },
 "nbformat": 4,
 "nbformat_minor": 5
}
