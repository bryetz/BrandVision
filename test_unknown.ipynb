{
 "cells": [
  {
   "cell_type": "code",
   "execution_count": 1,
   "id": "664131a0-dbb9-44f9-8d6e-0bf59ab72a47",
   "metadata": {},
   "outputs": [],
   "source": [
    "import numpy as np\n",
    "import os\n",
    "import tensorflow as tf\n",
    "import matplotlib.pyplot as plt\n",
    "from tensorflow import keras\n",
    "from sklearn.model_selection import train_test_split\n",
    "from keras import layers\n",
    "from tensorflow.keras.applications.resnet50 import ResNet50\n",
    "from keras.models import load_model\n",
    "from sklearn.metrics import classification_report, confusion_matrix, ConfusionMatrixDisplay"
   ]
  },
  {
   "cell_type": "code",
   "execution_count": 2,
   "id": "51605dfa-0d20-4c3b-903d-e410a426926b",
   "metadata": {},
   "outputs": [],
   "source": [
    "# Step 1: Load the test data (features) from the file 'x_test.npy'\n",
    "data = np.load('x_test.npy')\n",
    "\n",
    "# Step 2: Load the test labels from the file 't_test.npy'\n",
    "labels = np.load('t_test.npy')\n",
    "\n",
    "# Reshaping the data to match the expected input shape for the model (300x300 RGB image)\n",
    "data = data[:,:].reshape(data.shape[0],300,300,3)\n",
    "\n",
    "# Normalizing the data by dividing by 255, converting to float16 to save memory\n",
    "data = data.astype('float16') / 255\n",
    "\n",
    "# Converting the labels to one-hot encoded format with 10 classes\n",
    "labels = tf.keras.utils.to_categorical(labels, num_classes=10)"
   ]
  },
  {
   "cell_type": "code",
   "execution_count": 3,
   "id": "07b098fc-6c5c-4cd6-9e9b-9d14830e16a7",
   "metadata": {},
   "outputs": [
    {
     "name": "stderr",
     "output_type": "stream",
     "text": [
      "2023-08-07 20:17:17.354413: I tensorflow/core/platform/cpu_feature_guard.cc:151] This TensorFlow binary is optimized with oneAPI Deep Neural Network Library (oneDNN) to use the following CPU instructions in performance-critical operations:  SSE4.1 SSE4.2 AVX AVX2 FMA\n",
      "To enable them in other operations, rebuild TensorFlow with the appropriate compiler flags.\n",
      "2023-08-07 20:17:17.918794: I tensorflow/core/common_runtime/gpu/gpu_device.cc:1525] Created device /job:localhost/replica:0/task:0/device:GPU:0 with 79111 MB memory:  -> device: 0, name: NVIDIA A100-SXM4-80GB, pci bus id: 0000:bd:00.0, compute capability: 8.0\n"
     ]
    }
   ],
   "source": [
    "# Step 3: Define the path to the saved model checkpoint (best_model.h5)\n",
    "checkpoint_path = 'best_model.h5'\n",
    "\n",
    "# Getting the directory path of the checkpoint\n",
    "checkpoint_dir = os.path.dirname(checkpoint_path)\n",
    "\n",
    "# Note: Make sure to have the weights downloaded on your path with the name best_model.h5\n",
    "# Loading the model from the specified checkpoint path\n",
    "model = load_model(checkpoint_path)\n"
   ]
  },
  {
   "cell_type": "code",
   "execution_count": 4,
   "id": "0e200aec-5028-4e69-a6c2-c5a7d92ff824",
   "metadata": {},
   "outputs": [],
   "source": [
    "def classifyUnknowns(model, data, threshold):\n",
    "    # model: Trained machine learning model used to predict class probabilities.\n",
    "    # data: Input data to be classified, expected to be in the correct shape for the given model.\n",
    "    # threshold: Confidence threshold for classifying a sample as \"unknown.\"\n",
    "\n",
    "    predictions = model.predict(data) # Predict class probabilities for the given data\n",
    "    max_probs = np.max(predictions, axis=1) # Find the maximum probability for each sample\n",
    "    class_labels = np.argmax(predictions, axis=1) # Find the class label corresponding to the maximum probability for each sample\n",
    "    class_labels[max_probs < threshold] = -1 # Identify \"unknown\" classes by setting class labels to -1 where the maximum probability is below the threshold\n",
    "    return class_labels # Return the class labels, with \"unknown\" classes marked as -1"
   ]
  },
  {
   "cell_type": "code",
   "execution_count": 5,
   "id": "5845f67d-403b-4218-adc5-66271a9c7262",
   "metadata": {},
   "outputs": [
    {
     "name": "stderr",
     "output_type": "stream",
     "text": [
      "2023-08-07 20:17:24.139479: I tensorflow/stream_executor/cuda/cuda_dnn.cc:366] Loaded cuDNN version 8201\n",
      "2023-08-07 20:17:26.446073: I tensorflow/stream_executor/cuda/cuda_blas.cc:1774] TensorFloat-32 will be used for the matrix multiplication. This will only be logged once.\n"
     ]
    }
   ],
   "source": [
    "# Call classifyUnknowns function with the trained model and data, using a threshold of 0.6 and assign the labels to \"y\"\n",
    "y = classifyUnknowns(model, data, 0.6)"
   ]
  },
  {
   "cell_type": "code",
   "execution_count": 6,
   "id": "7d317fd9",
   "metadata": {},
   "outputs": [
    {
     "data": {
      "text/plain": [
       "array([9, 1, 2, ..., 6, 9, 4])"
      ]
     },
     "execution_count": 6,
     "metadata": {},
     "output_type": "execute_result"
    }
   ],
   "source": [
    "# Print predicted class labels\n",
    "y"
   ]
  },
  {
   "cell_type": "code",
   "execution_count": 7,
   "id": "69e5aed4-4e6f-4265-99e1-0707f5206e71",
   "metadata": {
    "tags": []
   },
   "outputs": [
    {
     "name": "stdout",
     "output_type": "stream",
     "text": [
      "\n",
      "\n",
      "TEST\n",
      "              precision    recall  f1-score   support\n",
      "\n",
      "          -1       0.00      0.00      0.00         0\n",
      "           0       0.91      0.91      0.91       175\n",
      "           1       0.96      0.87      0.92       182\n",
      "           2       0.98      0.94      0.96       175\n",
      "           3       0.96      0.94      0.95       189\n",
      "           4       0.99      0.98      0.99       195\n",
      "           5       0.96      0.97      0.96       161\n",
      "           6       0.98      0.94      0.96       175\n",
      "           7       0.97      0.97      0.97       175\n",
      "           8       0.96      0.94      0.95       173\n",
      "           9       0.96      0.91      0.93       180\n",
      "\n",
      "    accuracy                           0.94      1780\n",
      "   macro avg       0.88      0.85      0.86      1780\n",
      "weighted avg       0.96      0.94      0.95      1780\n",
      "\n"
     ]
    },
    {
     "name": "stderr",
     "output_type": "stream",
     "text": [
      "/apps/tensorflow/2.7.0/lib/python3.9/site-packages/sklearn/metrics/_classification.py:1248: UndefinedMetricWarning: Recall and F-score are ill-defined and being set to 0.0 in labels with no true samples. Use `zero_division` parameter to control this behavior.\n",
      "  _warn_prf(average, modifier, msg_start, len(result))\n",
      "/apps/tensorflow/2.7.0/lib/python3.9/site-packages/sklearn/metrics/_classification.py:1248: UndefinedMetricWarning: Recall and F-score are ill-defined and being set to 0.0 in labels with no true samples. Use `zero_division` parameter to control this behavior.\n",
      "  _warn_prf(average, modifier, msg_start, len(result))\n",
      "/apps/tensorflow/2.7.0/lib/python3.9/site-packages/sklearn/metrics/_classification.py:1248: UndefinedMetricWarning: Recall and F-score are ill-defined and being set to 0.0 in labels with no true samples. Use `zero_division` parameter to control this behavior.\n",
      "  _warn_prf(average, modifier, msg_start, len(result))\n"
     ]
    },
    {
     "data": {
      "text/plain": [
       "<sklearn.metrics._plot.confusion_matrix.ConfusionMatrixDisplay at 0x2ae393944970>"
      ]
     },
     "execution_count": 7,
     "metadata": {},
     "output_type": "execute_result"
    },
    {
     "data": {
      "image/png": "[encoded data removed]",
      "text/plain": [
       "<Figure size 432x288 with 2 Axes>"
      ]
     },
     "metadata": {
      "needs_background": "light"
     },
     "output_type": "display_data"
    }
   ],
   "source": [
    "print('\\n\\nTEST') # Print a header for the test results section\n",
    "\n",
    "# Print the classification report, comparing the true labels (from 'labels') with the predicted labels (from 'y')\n",
    "# This report includes metrics like precision, recall, f1-score, support, and accuracy\n",
    "print(classification_report(np.argmax(labels, axis=1), y))\n",
    "\n",
    "# Create and plot a confusion matrix to visualize the correctly and incorrectly classified samples\n",
    "# The confusion matrix compares the true labels with the predicted labels\n",
    "disp_test = ConfusionMatrixDisplay(confusion_matrix=confusion_matrix(np.argmax(labels, axis=1), y))\n",
    "disp_test.plot()"
   ]
  }
 ],
 "metadata": {
  "kernelspec": {
   "display_name": "Tensorflow-2.7.0",
   "language": "python",
   "name": "tensorflow-2.7.0"
  },
  "language_info": {
   "codemirror_mode": {
    "name": "ipython",
    "version": 3
   },
   "file_extension": ".py",
   "mimetype": "text/x-python",
   "name": "python",
   "nbconvert_exporter": "python",
   "pygments_lexer": "ipython3",
   "version": "3.9.12"
  }
 },
 "nbformat": 4,
 "nbformat_minor": 5
}
